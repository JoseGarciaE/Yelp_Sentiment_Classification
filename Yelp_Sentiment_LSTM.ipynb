{
 "cells": [
  {
   "cell_type": "code",
   "execution_count": 1,
   "id": "9350b0ef",
   "metadata": {},
   "outputs": [],
   "source": [
    "import time \n",
    "import math\n",
    "import re\n",
    "import json\n",
    "\n",
    "from datasets import load_dataset_builder, load_dataset\n",
    "\n",
    "from bs4 import BeautifulSoup\n",
    "\n",
    "import spacy\n",
    "\n",
    "import numpy as np\n",
    "import pandas as pd\n",
    "\n",
    "import gensim.models\n",
    "from gensim.models import KeyedVectors\n",
    "\n",
    "from sklearn.model_selection import train_test_split\n",
    "from sklearn import preprocessing\n",
    "from sklearn.metrics import classification_report\n",
    "from sklearn.utils import shuffle\n",
    "\n",
    "import torch\n",
    "import torch.nn as nn\n",
    "\n",
    "import matplotlib.pyplot as plt\n",
    "import matplotlib.ticker as ticker"
   ]
  },
  {
   "cell_type": "code",
   "execution_count": 2,
   "id": "57e512b5",
   "metadata": {},
   "outputs": [],
   "source": [
    "# ds_builder = load_dataset_builder('emotion')\n",
    "# dataset = load_dataset(\"emotion\")\n",
    "\n",
    "# train_data = pd.DataFrame(dataset['train'])\n",
    "# validation_data = pd.DataFrame(dataset['validation'])\n",
    "# test_data = pd.DataFrame(dataset['test'])\n",
    "# data = pd.concat([train_data, validation_data, test_data])"
   ]
  },
  {
   "cell_type": "code",
   "execution_count": 3,
   "id": "cd93b18d",
   "metadata": {},
   "outputs": [],
   "source": [
    "# ds_builder = load_dataset_builder('yelp_review_full')\n",
    "# dataset = load_dataset(\"yelp_review_full\")\n",
    "\n",
    "# train_data = pd.DataFrame(dataset['train'])\n",
    "# test_data = pd.DataFrame(dataset['test'])\n",
    "# data = pd.concat([train_data, test_data])"
   ]
  },
  {
   "cell_type": "code",
   "execution_count": 4,
   "id": "b59c8ad3",
   "metadata": {},
   "outputs": [],
   "source": [
    "# def assignLabel(label):\n",
    "#     if label == 0 or label == 1:\n",
    "#         return 'negative'\n",
    "#     elif label == 2:\n",
    "#         return 'neutral'\n",
    "#     else:\n",
    "#         return 'positive'"
   ]
  },
  {
   "cell_type": "code",
   "execution_count": 5,
   "id": "6eda0dc5",
   "metadata": {},
   "outputs": [],
   "source": [
    "# data['label'] = data['label'].apply(assignLabel)\n",
    "# data"
   ]
  },
  {
   "cell_type": "code",
   "execution_count": null,
   "id": "bdb55f8e",
   "metadata": {},
   "outputs": [],
   "source": []
  },
  {
   "cell_type": "code",
   "execution_count": 6,
   "id": "4c8d86b6",
   "metadata": {},
   "outputs": [],
   "source": [
    "nlp = spacy.load('en_core_web_sm')\n",
    "stopwords = nlp.Defaults.stop_words"
   ]
  },
  {
   "cell_type": "code",
   "execution_count": 7,
   "id": "a8e9d4c3",
   "metadata": {},
   "outputs": [],
   "source": [
    "# extracting text from tags \n",
    "def strip_html(text):\n",
    "    soup = BeautifulSoup(text, \"html.parser\")\n",
    "    return soup.get_text()\n",
    "\n",
    "# removing square brackets\n",
    "def remove_between_square_brackets(text):\n",
    "    return re.sub('\\[[^]]*\\]', '', text)\n",
    "\n",
    "# lemmatization and removal of stop words\n",
    "def lemma(text):\n",
    "    doc = nlp(str(text).lower())\n",
    "    lemmas = [token.lemma_ for token in doc \n",
    "          if (token.lemma_.isalnum() or token.lemma_ in ['.', '!', '?'] ) and token.lemma_ not in stopwords]\n",
    "    if len(lemmas) < 2: \n",
    "        lemmas.insert(0, 'start')\n",
    "        lemmas.append('end')\n",
    "    text = ' '.join(lemmas)\n",
    "    return text\n",
    "\n",
    "# cleaning text\n",
    "def clean(text):\n",
    "    text = str(text)\n",
    "    text = strip_html(text)\n",
    "    text = remove_between_square_brackets(text)\n",
    "    text = lemma(text)\n",
    "    return text"
   ]
  },
  {
   "cell_type": "code",
   "execution_count": 8,
   "id": "2b2ce6c3",
   "metadata": {},
   "outputs": [],
   "source": [
    "# data.to_csv('./data/yelp.csv', index=False)\n",
    "# data_clean = data.copy()\n",
    "# data_clean['text'] = data['text'].apply(clean)\n",
    "# data_clean.to_csv('./data/yelp_clean.csv', index=False)"
   ]
  },
  {
   "cell_type": "code",
   "execution_count": null,
   "id": "d029313b",
   "metadata": {},
   "outputs": [],
   "source": []
  },
  {
   "cell_type": "code",
   "execution_count": 9,
   "id": "03d39a0c",
   "metadata": {},
   "outputs": [],
   "source": [
    "# data.to_csv('./data/data.csv', index=False)\n",
    "# data_clean = data.copy()\n",
    "# data_clean['text'] = data['text'].apply(clean)\n",
    "# data_clean.to_csv('./data/data_clean.csv', index=False)"
   ]
  },
  {
   "cell_type": "code",
   "execution_count": null,
   "id": "e1661aab",
   "metadata": {},
   "outputs": [],
   "source": []
  },
  {
   "cell_type": "code",
   "execution_count": 10,
   "id": "28708984",
   "metadata": {},
   "outputs": [
    {
     "data": {
      "text/html": [
       "<div>\n",
       "<style scoped>\n",
       "    .dataframe tbody tr th:only-of-type {\n",
       "        vertical-align: middle;\n",
       "    }\n",
       "\n",
       "    .dataframe tbody tr th {\n",
       "        vertical-align: top;\n",
       "    }\n",
       "\n",
       "    .dataframe thead th {\n",
       "        text-align: right;\n",
       "    }\n",
       "</style>\n",
       "<table border=\"1\" class=\"dataframe\">\n",
       "  <thead>\n",
       "    <tr style=\"text-align: right;\">\n",
       "      <th></th>\n",
       "      <th>label</th>\n",
       "      <th>text</th>\n",
       "    </tr>\n",
       "  </thead>\n",
       "  <tbody>\n",
       "    <tr>\n",
       "      <th>0</th>\n",
       "      <td>positive</td>\n",
       "      <td>dr . goldberg offer I look general practitione...</td>\n",
       "    </tr>\n",
       "    <tr>\n",
       "      <th>1</th>\n",
       "      <td>negative</td>\n",
       "      <td>unfortunately frustration dr . goldberg patien...</td>\n",
       "    </tr>\n",
       "    <tr>\n",
       "      <th>2</th>\n",
       "      <td>positive</td>\n",
       "      <td>dr . goldberg 10 year . I think I 1st patient ...</td>\n",
       "    </tr>\n",
       "    <tr>\n",
       "      <th>3</th>\n",
       "      <td>positive</td>\n",
       "      <td>letter mail week dr . goldberg arizona new pos...</td>\n",
       "    </tr>\n",
       "    <tr>\n",
       "      <th>4</th>\n",
       "      <td>negative</td>\n",
       "      <td>I know dr . goldberg like arizona let I tell s...</td>\n",
       "    </tr>\n",
       "    <tr>\n",
       "      <th>...</th>\n",
       "      <td>...</td>\n",
       "      <td>...</td>\n",
       "    </tr>\n",
       "    <tr>\n",
       "      <th>699995</th>\n",
       "      <td>negative</td>\n",
       "      <td>want write review chip . I recommend . little ...</td>\n",
       "    </tr>\n",
       "    <tr>\n",
       "      <th>699996</th>\n",
       "      <td>positive</td>\n",
       "      <td>great ambience . great drink . great food . I ...</td>\n",
       "    </tr>\n",
       "    <tr>\n",
       "      <th>699997</th>\n",
       "      <td>positive</td>\n",
       "      <td>I monk location I excite I hear come sun prair...</td>\n",
       "    </tr>\n",
       "    <tr>\n",
       "      <th>699998</th>\n",
       "      <td>negative</td>\n",
       "      <td>. I know want try good review people sadly tas...</td>\n",
       "    </tr>\n",
       "    <tr>\n",
       "      <th>699999</th>\n",
       "      <td>negative</td>\n",
       "      <td>buffet recently open renovation husband I thin...</td>\n",
       "    </tr>\n",
       "  </tbody>\n",
       "</table>\n",
       "<p>700000 rows × 2 columns</p>\n",
       "</div>"
      ],
      "text/plain": [
       "           label                                               text\n",
       "0       positive  dr . goldberg offer I look general practitione...\n",
       "1       negative  unfortunately frustration dr . goldberg patien...\n",
       "2       positive  dr . goldberg 10 year . I think I 1st patient ...\n",
       "3       positive  letter mail week dr . goldberg arizona new pos...\n",
       "4       negative  I know dr . goldberg like arizona let I tell s...\n",
       "...          ...                                                ...\n",
       "699995  negative  want write review chip . I recommend . little ...\n",
       "699996  positive  great ambience . great drink . great food . I ...\n",
       "699997  positive  I monk location I excite I hear come sun prair...\n",
       "699998  negative  . I know want try good review people sadly tas...\n",
       "699999  negative  buffet recently open renovation husband I thin...\n",
       "\n",
       "[700000 rows x 2 columns]"
      ]
     },
     "execution_count": 10,
     "metadata": {},
     "output_type": "execute_result"
    }
   ],
   "source": [
    "data_clean = pd.read_csv('./data/yelp_clean.csv')\n",
    "data_clean\n",
    "# data_clean = pd.read_csv('./data/IMDB_Dataset_Clean.csv')\n",
    "# data_clean\n",
    "# data_clean = pd.read_csv('./data/data_clean.csv')\n",
    "# data_clean"
   ]
  },
  {
   "cell_type": "code",
   "execution_count": null,
   "id": "14ba53cf",
   "metadata": {},
   "outputs": [],
   "source": [
    "data"
   ]
  },
  {
   "cell_type": "code",
   "execution_count": 11,
   "id": "163e4c76",
   "metadata": {},
   "outputs": [],
   "source": [
    "sentences = []\n",
    "_ = [sentences.append(x.split()) for x in data_clean['text']]"
   ]
  },
  {
   "cell_type": "code",
   "execution_count": 12,
   "id": "aa4a6336",
   "metadata": {},
   "outputs": [
    {
     "name": "stdout",
     "output_type": "stream",
     "text": [
      "Time to build vocab: 0.81 mins\n"
     ]
    }
   ],
   "source": [
    "t = time.time()\n",
    "\n",
    "word2vec_model = gensim.models.Word2Vec(\n",
    "    sentences=sentences,\n",
    "    window=10,\n",
    "    min_count=1,\n",
    "    negative=5,\n",
    "    vector_size=100, \n",
    "    workers=12)\n",
    "\n",
    "word2vec_model.save('./saved_models/word2vec_model')\n",
    "\n",
    "print('Time to build vocab: {} mins'.format(round((time.time() - t) / 60, 2)))"
   ]
  },
  {
   "cell_type": "code",
   "execution_count": 13,
   "id": "7c8b3362",
   "metadata": {},
   "outputs": [],
   "source": [
    "word2vecDict = {}\n",
    "for index, word in enumerate(word2vec_model.wv.index_to_key):\n",
    "    word2vecDict[word] = word2vec_model.wv.vectors[index]"
   ]
  },
  {
   "cell_type": "code",
   "execution_count": 14,
   "id": "09ef2483",
   "metadata": {},
   "outputs": [
    {
     "data": {
      "text/plain": [
       "['.', 'I', '!', 'good', 'place', 'food', 'like', 'time', 'order', 'come']"
      ]
     },
     "execution_count": 14,
     "metadata": {},
     "output_type": "execute_result"
    }
   ],
   "source": [
    "list(word2vecDict.keys())[:10]"
   ]
  },
  {
   "cell_type": "code",
   "execution_count": 15,
   "id": "0098cdcf",
   "metadata": {},
   "outputs": [],
   "source": [
    "data_vectorized = []\n",
    "for text in data_clean['text']:\n",
    "    temp = []\n",
    "    for word in text.split():\n",
    "        temp.append(word2vecDict[word])\n",
    "    data_vectorized.append(np.array(temp))"
   ]
  },
  {
   "cell_type": "code",
   "execution_count": 16,
   "id": "928d27ec",
   "metadata": {},
   "outputs": [
    {
     "name": "stdout",
     "output_type": "stream",
     "text": [
      "['dr', '.', 'goldberg']\n",
      "\n",
      "\n",
      "[[ 2.67786574e+00  7.13899994e+00  4.18790722e+00  1.53078806e+00\n",
      "  -1.84095550e+00  3.46348238e+00  1.40430987e+00  1.40777898e+00\n",
      "  -2.56280422e+00 -2.74677181e+00 -2.43860221e+00 -1.30620623e+00\n",
      "   9.09476876e-01  1.73891932e-02 -2.55047178e+00 -1.66788900e+00\n",
      "   4.24955416e+00 -1.42414618e+00  7.66681612e-01 -5.49790096e+00\n",
      "  -6.88480139e-01 -9.06577587e-01  2.86911058e+00 -1.21197557e+00\n",
      "   1.03321040e+00 -1.91503191e+00 -4.87905407e+00  3.98098612e+00\n",
      "   2.97197819e-01 -2.00659990e+00  1.88588142e+00 -8.08712721e-01\n",
      "   4.24121237e+00 -1.38506711e+00 -2.24521112e+00  4.56653452e+00\n",
      "  -1.02624941e+00 -1.38573849e+00 -2.06298041e+00  9.72352743e-01\n",
      "  -2.29572606e+00 -1.63519919e-01 -3.25608993e+00  8.05527210e-01\n",
      "  -3.17897534e+00  1.42789412e+00 -1.97183836e+00  3.17938852e+00\n",
      "   1.85930455e+00  7.19727564e+00  2.87811875e+00 -7.45842743e+00\n",
      "   1.08862400e+00 -1.08678312e+01 -6.27434969e-01  5.44657803e+00\n",
      "  -3.49116921e-01 -3.06740344e-01 -1.89172905e-02  3.88061905e+00\n",
      "  -3.05686045e+00 -4.83573467e-01 -3.41507435e-01 -3.06467819e+00\n",
      "  -2.38745403e+00  1.18785214e+00 -2.61969876e+00  8.91652703e-01\n",
      "   3.95824909e-02 -3.94924068e+00 -7.12869167e-01  2.59561324e+00\n",
      "   5.51666069e+00 -1.24826133e+00  1.26410866e+00 -3.74934459e+00\n",
      "   3.92618346e+00 -5.41253424e+00 -2.80119777e+00 -2.63810301e+00\n",
      "  -4.08325052e+00 -2.25713921e+00 -5.78612804e+00 -3.89919543e+00\n",
      "  -3.36632371e+00 -6.16129494e+00 -2.08132759e-01 -2.95564294e+00\n",
      "   1.03727889e+00  3.70169520e+00  1.04528032e-02 -4.50347805e+00\n",
      "   7.20671415e-01 -5.85575008e+00  3.78496432e+00  4.29622078e+00\n",
      "   6.35332644e-01 -4.10270596e+00 -1.39456427e+00 -3.59675455e+00]\n",
      " [-1.49547040e+00  9.85440254e-01 -2.69845200e+00 -1.95070982e+00\n",
      "  -1.38083267e+00 -1.82584858e+00 -5.04865348e-01  8.54832530e-01\n",
      "  -1.69507131e-01  1.02899301e+00 -2.09972286e+00  1.38896763e+00\n",
      "  -1.42017007e+00 -7.35914469e-01  6.77669883e-01 -1.95047665e+00\n",
      "  -1.91293025e+00 -2.49914229e-01 -1.11820805e+00  1.55213892e+00\n",
      "   3.21908623e-01 -7.78814673e-01 -9.30723190e-01 -5.00815988e-01\n",
      "  -9.29645717e-01 -1.88092387e+00  3.51958200e-02  1.73059309e+00\n",
      "  -2.15642166e+00 -8.47495496e-01  1.79617953e+00 -5.41887224e-01\n",
      "  -3.33487511e-01  1.93659437e+00  2.79098421e-01 -1.90537393e+00\n",
      "  -2.12331009e+00  9.29601908e-01 -3.14273208e-01 -6.38228953e-01\n",
      "  -2.78635478e+00  2.00049686e+00 -1.15257718e-01  1.61559999e+00\n",
      "   2.07779750e-01 -2.25705576e+00  9.12088931e-01 -1.57489562e+00\n",
      "  -2.08384395e+00  1.68237436e+00  3.42829198e-01 -1.44487512e+00\n",
      "   1.35880089e+00  1.70751798e+00  6.24704659e-01 -9.09860849e-01\n",
      "  -1.98062456e+00 -9.88889992e-01  4.62745696e-01  1.26865733e+00\n",
      "   1.24530816e+00 -1.07272542e+00 -2.20640492e+00 -5.33947170e-01\n",
      "   1.06281364e+00  1.86061370e+00  1.17751602e-02  2.55910969e+00\n",
      "   3.69462296e-02  1.18548346e+00  8.04081619e-01  7.80860901e-01\n",
      "   5.27944148e-01  1.13784325e+00 -2.34361124e+00 -1.23997778e-01\n",
      "  -1.87494683e+00  1.25302419e-01 -5.29951096e-01  6.64848566e-01\n",
      "   5.25904596e-01 -2.02371621e+00 -2.11577013e-01  4.03802693e-01\n",
      "  -1.10162377e+00  4.57345933e-01 -3.10693407e+00 -1.13182461e+00\n",
      "  -1.48276567e+00 -7.93353021e-01  1.81545600e-01  9.87200916e-01\n",
      "   2.80801237e-01  5.36177158e-01  5.60861945e-01 -3.51077408e-01\n",
      "   1.93084896e+00  2.55578700e-02 -1.58175099e+00 -2.16600919e+00]\n",
      " [ 6.45425990e-02  1.36592999e-01  7.32355714e-02 -5.95711730e-02\n",
      "  -1.13595091e-01  7.31053576e-02  2.56063184e-03 -2.07903665e-02\n",
      "  -2.08001267e-02 -8.34178180e-02 -1.53473415e-03 -7.46057779e-02\n",
      "   4.45985645e-02  2.48258352e-01 -5.41040637e-02 -3.87732461e-02\n",
      "   2.05568045e-01 -9.70670283e-02 -1.08301580e-01 -1.02715060e-01\n",
      "   1.37763247e-01  2.79130220e-01  1.56799346e-01  1.75184533e-01\n",
      "   8.81362632e-02  8.37887824e-02 -1.53568879e-01 -1.29010201e-01\n",
      "  -1.38766199e-01  1.20323494e-01  5.02068363e-02  4.81278747e-02\n",
      "   1.92186773e-01 -2.80570537e-01 -5.04189134e-02  5.57736270e-02\n",
      "   1.37128793e-02 -1.85057312e-01 -5.81166074e-02 -3.03640515e-01\n",
      "   5.92778623e-02  5.40545844e-02 -8.51159170e-02  3.62362936e-02\n",
      "  -5.02774715e-02  1.84716672e-01 -2.37013564e-01  4.01475327e-03\n",
      "   7.96486065e-02  6.81259036e-02  1.55678377e-01 -3.42989303e-02\n",
      "  -2.49908701e-01 -1.87467352e-01 -9.58827883e-02  1.13064013e-01\n",
      "  -3.13117765e-02 -1.43315032e-01  2.36897618e-02  1.91181734e-01\n",
      "  -1.32073194e-01  3.52199562e-03 -1.27390087e-01  2.29168579e-01\n",
      "  -1.40944794e-01 -2.23255157e-01 -1.01931253e-02 -1.25010848e-01\n",
      "  -1.62518114e-01 -1.03325322e-01  5.94469793e-02 -9.74689871e-02\n",
      "   1.06916755e-01 -2.30247945e-01  2.02202378e-03  3.07258815e-02\n",
      "   5.49277775e-02 -7.38538383e-03 -2.63688594e-01 -1.06218472e-01\n",
      "  -2.15484291e-01 -2.08499283e-01 -1.31589919e-01  1.87093064e-01\n",
      "   1.06278239e-02  8.32622722e-02  2.52217621e-01  3.92600745e-02\n",
      "   1.91041917e-01 -3.65500450e-02 -2.08058089e-01 -1.29421979e-01\n",
      "   7.23139942e-02 -2.33571276e-01  8.71678814e-02  1.68490633e-01\n",
      "   8.43442157e-02 -4.26454693e-02 -7.17129558e-02  3.91896963e-02]]\n"
     ]
    }
   ],
   "source": [
    "# first 3 words of first text\n",
    "print(data_clean['text'][0].split()[:3])\n",
    "print('\\n')\n",
    "print(data_vectorized[0][:3])"
   ]
  },
  {
   "cell_type": "code",
   "execution_count": null,
   "id": "763d55ea",
   "metadata": {},
   "outputs": [],
   "source": []
  },
  {
   "cell_type": "code",
   "execution_count": null,
   "id": "5ea7e6f2",
   "metadata": {},
   "outputs": [],
   "source": []
  },
  {
   "cell_type": "code",
   "execution_count": 17,
   "id": "2eeec936",
   "metadata": {},
   "outputs": [],
   "source": [
    "# encoding sentiment\n",
    "le = preprocessing.LabelEncoder()\n",
    "data_label = le.fit_transform(data_clean['label'])"
   ]
  },
  {
   "cell_type": "code",
   "execution_count": 18,
   "id": "c3b1cfc1",
   "metadata": {},
   "outputs": [],
   "source": [
    "# train, validation, test: 80/10/10 \n",
    "X_train, X_test, y_train, y_test = train_test_split(data_vectorized, data_label, test_size=1/4, random_state=1)\n",
    "X_validation, X_test, y_validation, y_test = train_test_split(X_test, y_test, test_size=1/2, random_state=1)"
   ]
  },
  {
   "cell_type": "code",
   "execution_count": null,
   "id": "0ee335bd",
   "metadata": {},
   "outputs": [],
   "source": []
  },
  {
   "cell_type": "code",
   "execution_count": 19,
   "id": "9a82f5e9",
   "metadata": {},
   "outputs": [],
   "source": [
    "device = torch.device('cuda' if torch.cuda.is_available() else 'cpu')"
   ]
  },
  {
   "cell_type": "code",
   "execution_count": 20,
   "id": "81d4ea73",
   "metadata": {},
   "outputs": [],
   "source": [
    "class LSTM(nn.Module):\n",
    "    def __init__(self, input_size, hidden_size, output_size, num_layers, dropout, bidirectional):\n",
    "        super(LSTM, self).__init__()\n",
    "        \n",
    "        self.hidden_size = hidden_size\n",
    "        self.num_layers = num_layers\n",
    "        \n",
    "        if bidirectional: self.bidirectional = 2\n",
    "        else: self.bidirectional = 1\n",
    "        \n",
    "        if num_layers < 2:\n",
    "            dropout = 0\n",
    "        \n",
    "        self.lstm = nn.LSTM(input_size, hidden_size, num_layers=num_layers, dropout=dropout, bidirectional=bidirectional)\n",
    "        self.dropout = nn.Dropout(0.2)\n",
    "        self.fc = nn.Linear(hidden_size*self.bidirectional, output_size)\n",
    "        self.softmax = nn.LogSoftmax(dim=1)\n",
    "    \n",
    "    def forward(self, input, hidden, c):\n",
    "        output, (hidden, c) = self.lstm(input, (hidden, c))\n",
    "        output = self.dropout(output)\n",
    "        output = output.squeeze()[-1].unsqueeze(0)\n",
    "        output = self.fc(output)\n",
    "        output = self.softmax(output)\n",
    "        return output, hidden, c\n",
    "    \n",
    "    def initHidden(self):\n",
    "        return torch.zeros(self.bidirectional*self.num_layers, 1, self.hidden_size, device=device)\n",
    "    def initC(self):\n",
    "        return torch.zeros(self.bidirectional*self.num_layers, 1, self.hidden_size, device=device)"
   ]
  },
  {
   "cell_type": "code",
   "execution_count": 21,
   "id": "a7aafab8",
   "metadata": {},
   "outputs": [],
   "source": [
    "def getLabel(output):\n",
    "#     print(output)\n",
    "#     print(output.topk(1))\n",
    "    value_tensor, index_tensor = output.topk(1)\n",
    "    return index_tensor[0].item()"
   ]
  },
  {
   "cell_type": "code",
   "execution_count": 22,
   "id": "e73b49f6",
   "metadata": {},
   "outputs": [],
   "source": [
    "def getElapsedTime(start_time):\n",
    "    current_time = time.time()\n",
    "    s = current_time - start_time\n",
    "    m = math.floor(s / 60)\n",
    "    s -= m * 60\n",
    "    return '{}m {:.0f}s'.format(m, s)"
   ]
  },
  {
   "cell_type": "code",
   "execution_count": 23,
   "id": "6941fcf1",
   "metadata": {},
   "outputs": [],
   "source": [
    "def train(X_train, y_train):\n",
    "    hidden, c = lstm.initHidden(), lstm.initC()\n",
    "    lstm.zero_grad()\n",
    "    output, hidden, c = lstm(X_train, hidden, c)\n",
    "    loss = criterion(output, y_train)\n",
    "    loss.backward()\n",
    "    nn.utils.clip_grad_norm_(lstm.parameters(), 5)\n",
    "    optimizer.step()\n",
    "\n",
    "    return output, loss.item()"
   ]
  },
  {
   "cell_type": "code",
   "execution_count": 37,
   "id": "3c76c875",
   "metadata": {},
   "outputs": [],
   "source": [
    "from sklearn.metrics import f1_score"
   ]
  },
  {
   "cell_type": "code",
   "execution_count": 38,
   "id": "cc2f0ca1",
   "metadata": {
    "scrolled": true
   },
   "outputs": [],
   "source": [
    "def test(X_test, y_test):\n",
    "    \n",
    "    n = len(X_test)\n",
    "#     n = 200\n",
    "\n",
    "    print_every = 1000\n",
    "    \n",
    "    correct = 0\n",
    "    total_loss = 0\n",
    "    \n",
    "    y_pred = []\n",
    "    \n",
    "    for i in range(n):\n",
    "        with torch.no_grad():\n",
    "            hidden, c = lstm.initHidden(), lstm.initC()\n",
    "            output, hidden, c = lstm(torch.tensor(X_test[i], device=device).unsqueeze(1), hidden, c)\n",
    "            loss = criterion(output, torch.tensor([y_test[i]], dtype=torch.long, device=device))\n",
    "            total_loss+=loss.item()\n",
    "            \n",
    "            y_pred.append(getLabel(output))\n",
    "            if y_pred[-1] == y_test[i]:\n",
    "                correct+=1\n",
    "            \n",
    "            if i>0 and i%print_every == 0:\n",
    "                pass\n",
    "#                 print('Test Sample {} | {:.2f}%'.format(i, i*100/n))\n",
    "                \n",
    "                \n",
    "    accuracy = correct / n\n",
    "    total_loss = total_loss / n\n",
    "    f1 = f1_score(y_test, y_pred, average='micro')\n",
    "    \n",
    "    return accuracy, f1, total_loss"
   ]
  },
  {
   "cell_type": "code",
   "execution_count": 27,
   "id": "e6110953",
   "metadata": {},
   "outputs": [],
   "source": [
    "# strict parameters\n",
    "input_size = len(X_train[0][0])\n",
    "output_size = len(le.classes_)\n",
    "\n",
    "# adjustable parameters\n",
    "hidden_size = 256\n",
    "num_layers = 1\n",
    "dropout = .2\n",
    "bidirectional = False\n",
    "\n",
    "\n",
    "lstm = LSTM(input_size, hidden_size, output_size, num_layers, dropout, bidirectional)\n",
    "criterion = nn.NLLLoss()\n",
    "lr = 0.001\n",
    "\n",
    "optimizer = torch.optim.SGD(lstm.parameters(), lr=lr)"
   ]
  },
  {
   "cell_type": "code",
   "execution_count": 28,
   "id": "18d45c45",
   "metadata": {},
   "outputs": [
    {
     "name": "stdout",
     "output_type": "stream",
     "text": [
      "Epoch 0 Sample 131250 | 25% | (10m 55s) | Loss: 4.2330 | Wrong! Guessed 0 but should be: 1\n",
      "Epoch 0 Sample 262500 | 50% | (21m 49s) | Loss: 0.1141 | Correct! It's 0\n",
      "Epoch 0 Sample 393750 | 75% | (32m 41s) | Loss: 0.0823 | Correct! It's 2\n",
      "Epoch 0 Sample 524999 | 99% | (43m 46s) | Loss: 1.4243 | Wrong! Guessed 1 but should be: 2\n",
      "\n",
      "\n"
     ]
    },
    {
     "data": {
      "image/png": "[encoded data removed]",
      "text/plain": [
       "<Figure size 640x480 with 1 Axes>"
      ]
     },
     "metadata": {},
     "output_type": "display_data"
    },
    {
     "name": "stdout",
     "output_type": "stream",
     "text": [
      "Epoch 1 Sample 131250 | 25% | (56m 48s) | Loss: 5.5505 | Wrong! Guessed 2 but should be: 0\n",
      "Epoch 1 Sample 262500 | 50% | (67m 42s) | Loss: 0.1490 | Correct! It's 1\n",
      "Epoch 1 Sample 393750 | 75% | (78m 31s) | Loss: 0.0310 | Correct! It's 2\n",
      "Epoch 1 Sample 524999 | 99% | (89m 18s) | Loss: 0.0087 | Correct! It's 0\n",
      "\n",
      "\n"
     ]
    },
    {
     "data": {
      "image/png": "[encoded data removed]",
      "text/plain": [
       "<Figure size 640x480 with 1 Axes>"
      ]
     },
     "metadata": {},
     "output_type": "display_data"
    },
    {
     "name": "stdout",
     "output_type": "stream",
     "text": [
      "Epoch 2 Sample 131250 | 25% | (102m 39s) | Loss: 0.1281 | Correct! It's 2\n"
     ]
    },
    {
     "ename": "KeyboardInterrupt",
     "evalue": "",
     "output_type": "error",
     "traceback": [
      "\u001b[1;31m---------------------------------------------------------------------------\u001b[0m",
      "\u001b[1;31mKeyboardInterrupt\u001b[0m                         Traceback (most recent call last)",
      "Cell \u001b[1;32mIn[28], line 26\u001b[0m\n\u001b[0;32m     23\u001b[0m lstm\u001b[38;5;241m.\u001b[39mtrain()\n\u001b[0;32m     25\u001b[0m \u001b[38;5;28;01mfor\u001b[39;00m i \u001b[38;5;129;01min\u001b[39;00m \u001b[38;5;28mrange\u001b[39m(n): \n\u001b[1;32m---> 26\u001b[0m     output, loss \u001b[38;5;241m=\u001b[39m \u001b[43mtrain\u001b[49m\u001b[43m(\u001b[49m\u001b[43mtorch\u001b[49m\u001b[38;5;241;43m.\u001b[39;49m\u001b[43mtensor\u001b[49m\u001b[43m(\u001b[49m\u001b[43mX_train\u001b[49m\u001b[43m[\u001b[49m\u001b[43mi\u001b[49m\u001b[43m]\u001b[49m\u001b[43m,\u001b[49m\u001b[43m \u001b[49m\u001b[43mdevice\u001b[49m\u001b[38;5;241;43m=\u001b[39;49m\u001b[43mdevice\u001b[49m\u001b[43m)\u001b[49m\u001b[38;5;241;43m.\u001b[39;49m\u001b[43munsqueeze\u001b[49m\u001b[43m(\u001b[49m\u001b[38;5;241;43m1\u001b[39;49m\u001b[43m)\u001b[49m\u001b[38;5;241;43m.\u001b[39;49m\u001b[43mto\u001b[49m\u001b[43m(\u001b[49m\u001b[43mdevice\u001b[49m\u001b[43m)\u001b[49m\u001b[43m,\u001b[49m\u001b[43m \u001b[49m\u001b[43mtorch\u001b[49m\u001b[38;5;241;43m.\u001b[39;49m\u001b[43mtensor\u001b[49m\u001b[43m(\u001b[49m\u001b[43m[\u001b[49m\u001b[43my_train\u001b[49m\u001b[43m[\u001b[49m\u001b[43mi\u001b[49m\u001b[43m]\u001b[49m\u001b[43m]\u001b[49m\u001b[43m,\u001b[49m\u001b[43m \u001b[49m\u001b[43mdtype\u001b[49m\u001b[38;5;241;43m=\u001b[39;49m\u001b[43mtorch\u001b[49m\u001b[38;5;241;43m.\u001b[39;49m\u001b[43mlong\u001b[49m\u001b[43m,\u001b[49m\u001b[43m \u001b[49m\u001b[43mdevice\u001b[49m\u001b[38;5;241;43m=\u001b[39;49m\u001b[43mdevice\u001b[49m\u001b[43m)\u001b[49m\u001b[38;5;241;43m.\u001b[39;49m\u001b[43mto\u001b[49m\u001b[43m(\u001b[49m\u001b[43mdevice\u001b[49m\u001b[43m)\u001b[49m\u001b[43m)\u001b[49m\n\u001b[0;32m     27\u001b[0m     current_loss \u001b[38;5;241m+\u001b[39m\u001b[38;5;241m=\u001b[39m loss\n\u001b[0;32m     29\u001b[0m     \u001b[38;5;28;01mif\u001b[39;00m (i\u001b[38;5;241m>\u001b[39m\u001b[38;5;241m0\u001b[39m \u001b[38;5;129;01mand\u001b[39;00m i \u001b[38;5;241m%\u001b[39m print_every \u001b[38;5;241m==\u001b[39m \u001b[38;5;241m0\u001b[39m) \u001b[38;5;129;01mor\u001b[39;00m i\u001b[38;5;241m==\u001b[39mn\u001b[38;5;241m-\u001b[39m\u001b[38;5;241m1\u001b[39m:\n",
      "Cell \u001b[1;32mIn[23], line 6\u001b[0m, in \u001b[0;36mtrain\u001b[1;34m(X_train, y_train)\u001b[0m\n\u001b[0;32m      4\u001b[0m output, hidden, c \u001b[38;5;241m=\u001b[39m lstm(X_train, hidden, c)\n\u001b[0;32m      5\u001b[0m loss \u001b[38;5;241m=\u001b[39m criterion(output, y_train)\n\u001b[1;32m----> 6\u001b[0m \u001b[43mloss\u001b[49m\u001b[38;5;241;43m.\u001b[39;49m\u001b[43mbackward\u001b[49m\u001b[43m(\u001b[49m\u001b[43m)\u001b[49m\n\u001b[0;32m      7\u001b[0m nn\u001b[38;5;241m.\u001b[39mutils\u001b[38;5;241m.\u001b[39mclip_grad_norm_(lstm\u001b[38;5;241m.\u001b[39mparameters(), \u001b[38;5;241m5\u001b[39m)\n\u001b[0;32m      8\u001b[0m optimizer\u001b[38;5;241m.\u001b[39mstep()\n",
      "File \u001b[1;32mC:\\Program Files\\anaconda3\\lib\\site-packages\\torch\\_tensor.py:488\u001b[0m, in \u001b[0;36mTensor.backward\u001b[1;34m(self, gradient, retain_graph, create_graph, inputs)\u001b[0m\n\u001b[0;32m    478\u001b[0m \u001b[38;5;28;01mif\u001b[39;00m has_torch_function_unary(\u001b[38;5;28mself\u001b[39m):\n\u001b[0;32m    479\u001b[0m     \u001b[38;5;28;01mreturn\u001b[39;00m handle_torch_function(\n\u001b[0;32m    480\u001b[0m         Tensor\u001b[38;5;241m.\u001b[39mbackward,\n\u001b[0;32m    481\u001b[0m         (\u001b[38;5;28mself\u001b[39m,),\n\u001b[1;32m   (...)\u001b[0m\n\u001b[0;32m    486\u001b[0m         inputs\u001b[38;5;241m=\u001b[39minputs,\n\u001b[0;32m    487\u001b[0m     )\n\u001b[1;32m--> 488\u001b[0m \u001b[43mtorch\u001b[49m\u001b[38;5;241;43m.\u001b[39;49m\u001b[43mautograd\u001b[49m\u001b[38;5;241;43m.\u001b[39;49m\u001b[43mbackward\u001b[49m\u001b[43m(\u001b[49m\n\u001b[0;32m    489\u001b[0m \u001b[43m    \u001b[49m\u001b[38;5;28;43mself\u001b[39;49m\u001b[43m,\u001b[49m\u001b[43m \u001b[49m\u001b[43mgradient\u001b[49m\u001b[43m,\u001b[49m\u001b[43m \u001b[49m\u001b[43mretain_graph\u001b[49m\u001b[43m,\u001b[49m\u001b[43m \u001b[49m\u001b[43mcreate_graph\u001b[49m\u001b[43m,\u001b[49m\u001b[43m \u001b[49m\u001b[43minputs\u001b[49m\u001b[38;5;241;43m=\u001b[39;49m\u001b[43minputs\u001b[49m\n\u001b[0;32m    490\u001b[0m \u001b[43m\u001b[49m\u001b[43m)\u001b[49m\n",
      "File \u001b[1;32mC:\\Program Files\\anaconda3\\lib\\site-packages\\torch\\autograd\\__init__.py:197\u001b[0m, in \u001b[0;36mbackward\u001b[1;34m(tensors, grad_tensors, retain_graph, create_graph, grad_variables, inputs)\u001b[0m\n\u001b[0;32m    192\u001b[0m     retain_graph \u001b[38;5;241m=\u001b[39m create_graph\n\u001b[0;32m    194\u001b[0m \u001b[38;5;66;03m# The reason we repeat same the comment below is that\u001b[39;00m\n\u001b[0;32m    195\u001b[0m \u001b[38;5;66;03m# some Python versions print out the first line of a multi-line function\u001b[39;00m\n\u001b[0;32m    196\u001b[0m \u001b[38;5;66;03m# calls in the traceback and some print out the last line\u001b[39;00m\n\u001b[1;32m--> 197\u001b[0m \u001b[43mVariable\u001b[49m\u001b[38;5;241;43m.\u001b[39;49m\u001b[43m_execution_engine\u001b[49m\u001b[38;5;241;43m.\u001b[39;49m\u001b[43mrun_backward\u001b[49m\u001b[43m(\u001b[49m\u001b[43m  \u001b[49m\u001b[38;5;66;43;03m# Calls into the C++ engine to run the backward pass\u001b[39;49;00m\n\u001b[0;32m    198\u001b[0m \u001b[43m    \u001b[49m\u001b[43mtensors\u001b[49m\u001b[43m,\u001b[49m\u001b[43m \u001b[49m\u001b[43mgrad_tensors_\u001b[49m\u001b[43m,\u001b[49m\u001b[43m \u001b[49m\u001b[43mretain_graph\u001b[49m\u001b[43m,\u001b[49m\u001b[43m \u001b[49m\u001b[43mcreate_graph\u001b[49m\u001b[43m,\u001b[49m\u001b[43m \u001b[49m\u001b[43minputs\u001b[49m\u001b[43m,\u001b[49m\n\u001b[0;32m    199\u001b[0m \u001b[43m    \u001b[49m\u001b[43mallow_unreachable\u001b[49m\u001b[38;5;241;43m=\u001b[39;49m\u001b[38;5;28;43;01mTrue\u001b[39;49;00m\u001b[43m,\u001b[49m\u001b[43m \u001b[49m\u001b[43maccumulate_grad\u001b[49m\u001b[38;5;241;43m=\u001b[39;49m\u001b[38;5;28;43;01mTrue\u001b[39;49;00m\u001b[43m)\u001b[49m\n",
      "\u001b[1;31mKeyboardInterrupt\u001b[0m: "
     ]
    }
   ],
   "source": [
    "epochs = 15\n",
    "n = len(X_train)\n",
    "# n = 1000\n",
    "\n",
    "print_every = n/4\n",
    "plot_every = n/10\n",
    "\n",
    "start_time = time.time()\n",
    "\n",
    "total_epoch_loss = []\n",
    "total_validation_loss = []\n",
    "\n",
    "total_validation_accuracy = []\n",
    "\n",
    "for epoch in range(epochs):\n",
    "    \n",
    "    X_train, y_train = shuffle(X_train, y_train)\n",
    "    \n",
    "    epoch_loss = []\n",
    "    current_loss = 0\n",
    "    \n",
    "    lstm.to(device)\n",
    "    lstm.train()\n",
    "        \n",
    "    for i in range(n): \n",
    "        output, loss = train(torch.tensor(X_train[i], device=device).unsqueeze(1).to(device), torch.tensor([y_train[i]], dtype=torch.long, device=device).to(device))\n",
    "        current_loss += loss\n",
    "    \n",
    "        if (i>0 and i % print_every == 0) or i==n-1:\n",
    "            y_pred = getLabel(output)\n",
    "            if y_pred == y_train[i]:\n",
    "                y_pred = \"Correct! It's {}\".format(y_pred)  \n",
    "            else:\n",
    "                y_pred = 'Wrong! Guessed {} but should be: {}'.format(y_pred, y_train[i])\n",
    "        \n",
    "            print('Epoch %d Sample %d | %d%% | (%s) | Loss: %.4f | %s' % (epoch, i, i / n * 100, getElapsedTime(start_time), loss, y_pred))\n",
    "\n",
    "        if (i>0 and i % plot_every == 0) or i==n-1:\n",
    "            epoch_loss.append(current_loss / plot_every)\n",
    "            current_loss = 0\n",
    "    \n",
    "    print('\\n')\n",
    "            \n",
    "    # training loss\n",
    "    training_loss = sum(epoch_loss) / len(epoch_loss)\n",
    "    \n",
    "    # validation loss\n",
    "    lstm.eval()\n",
    "    validation_accuracy, validation_loss = test(X_validation, y_validation)\n",
    "    \n",
    "    # save metrics if continuing\n",
    "    total_epoch_loss.append(training_loss)\n",
    "    total_validation_accuracy.append(validation_accuracy)\n",
    "    total_validation_loss.append(validation_loss)\n",
    "    \n",
    "    # save model\n",
    "    torch.save(lstm.state_dict(), './saved_models/lstm_epoch_{}.pth'.format(epoch))\n",
    "    \n",
    "    # plot current epoch loss\n",
    "    plt.title('Epoch {} Loss'.format(epoch))\n",
    "    plt.plot(epoch_loss)\n",
    "    plt.ylabel('Loss')\n",
    "    plt.show()"
   ]
  },
  {
   "cell_type": "code",
   "execution_count": 29,
   "id": "7a0de210",
   "metadata": {},
   "outputs": [
    {
     "data": {
      "image/png": "[encoded data removed]",
      "text/plain": [
       "<Figure size 640x480 with 1 Axes>"
      ]
     },
     "metadata": {},
     "output_type": "display_data"
    },
    {
     "data": {
      "image/png": "[encoded data removed]",
      "text/plain": [
       "<Figure size 640x480 with 1 Axes>"
      ]
     },
     "metadata": {},
     "output_type": "display_data"
    }
   ],
   "source": [
    "plt.title('Total Loss')\n",
    "plt.plot(range(len(total_epoch_loss)), total_epoch_loss, label='Training Loss')\n",
    "plt.plot(range(len(total_validation_loss)), total_validation_loss, label= 'Validation Loss')\n",
    "plt.xlabel('Epochs')\n",
    "plt.ylabel('Loss')\n",
    "plt.legend()\n",
    "plt.show()\n",
    "\n",
    "plt.title('Total Validation Accuracy')\n",
    "plt.plot(total_validation_accuracy)\n",
    "plt.show()"
   ]
  },
  {
   "cell_type": "code",
   "execution_count": null,
   "id": "c41894a5",
   "metadata": {},
   "outputs": [],
   "source": []
  },
  {
   "cell_type": "code",
   "execution_count": 39,
   "id": "0aec8671",
   "metadata": {},
   "outputs": [
    {
     "name": "stdout",
     "output_type": "stream",
     "text": [
      "0.7581942857142857\n",
      "0.7581942857142856\n"
     ]
    }
   ],
   "source": [
    "# final test\n",
    "test_accuracy, f1, test_loss = test(X_test, y_test)\n",
    "print(test_accuracy)\n",
    "print(f1)"
   ]
  },
  {
   "cell_type": "code",
   "execution_count": null,
   "id": "e42ef103",
   "metadata": {},
   "outputs": [],
   "source": []
  }
 ],
 "metadata": {
  "kernelspec": {
   "display_name": "Python 3 (ipykernel)",
   "language": "python",
   "name": "python3"
  },
  "language_info": {
   "codemirror_mode": {
    "name": "ipython",
    "version": 3
   },
   "file_extension": ".py",
   "mimetype": "text/x-python",
   "name": "python",
   "nbconvert_exporter": "python",
   "pygments_lexer": "ipython3",
   "version": "3.9.13"
  }
 },
 "nbformat": 4,
 "nbformat_minor": 5
}

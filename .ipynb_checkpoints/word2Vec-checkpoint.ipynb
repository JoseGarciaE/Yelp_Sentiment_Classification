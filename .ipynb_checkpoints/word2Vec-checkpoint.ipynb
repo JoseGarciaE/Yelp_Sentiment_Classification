{
 "cells": [
  {
   "cell_type": "code",
   "execution_count": 1,
   "id": "9350b0ef",
   "metadata": {},
   "outputs": [],
   "source": [
    "import time \n",
    "import gensim.models"
   ]
  },
  {
   "cell_type": "code",
   "execution_count": 2,
   "id": "a3c85f29",
   "metadata": {},
   "outputs": [],
   "source": [
    "sentences = [[\"Hello\", 'my', 'name', 'is', 'Jose'], \n",
    "             [\"Hello\", 'my', 'name', 'is', 'Jose'],\n",
    "             [\"Hello\", 'my', 'name', 'is', 'Jose']]"
   ]
  },
  {
   "cell_type": "code",
   "execution_count": 3,
   "id": "88ad5ffd",
   "metadata": {},
   "outputs": [
    {
     "name": "stdout",
     "output_type": "stream",
     "text": [
      "Time to build vocab: 0.0 mins\n"
     ]
    }
   ],
   "source": [
    "t = time.time()\n",
    "\n",
    "model = gensim.models.Word2Vec(sentences=sentences, min_count=1, vector_size=4)\n",
    "\n",
    "print('Time to build vocab: {} mins'.format(round((time.time() - t) / 60, 2)))"
   ]
  },
  {
   "cell_type": "code",
   "execution_count": 4,
   "id": "41461ae5",
   "metadata": {},
   "outputs": [
    {
     "name": "stdout",
     "output_type": "stream",
     "text": [
      "word #0/5 is Jose\n",
      "[-0.01340568  0.00591075  0.12758374  0.22523183]\n",
      "word #1/5 is is\n",
      "[-0.23257375 -0.17792022  0.16147178  0.2243247 ]\n",
      "word #2/5 is name\n",
      "[-0.1253857  -0.09408432  0.18451262 -0.03833681]\n",
      "word #3/5 is my\n",
      "[-0.11341536  0.16385126 -0.12150401 -0.04540044]\n",
      "word #4/5 is Hello\n",
      "[ 0.07191449  0.02479684 -0.20713037 -0.23622048]\n"
     ]
    }
   ],
   "source": [
    "temp_dict = {}\n",
    "for index, word in enumerate(model.wv.index_to_key):\n",
    "    print(f\"word #{index}/{len(model.wv.index_to_key)} is {word}\")\n",
    "    print(model.wv.vectors[index])\n",
    "    temp_dict[word] = model.wv.vectors[index]"
   ]
  },
  {
   "cell_type": "code",
   "execution_count": 5,
   "id": "a41e4ca6",
   "metadata": {},
   "outputs": [
    {
     "data": {
      "text/plain": [
       "dict_keys(['Jose', 'is', 'name', 'my', 'Hello'])"
      ]
     },
     "execution_count": 5,
     "metadata": {},
     "output_type": "execute_result"
    }
   ],
   "source": [
    "temp_dict.keys()"
   ]
  },
  {
   "cell_type": "code",
   "execution_count": 6,
   "id": "480e6899",
   "metadata": {},
   "outputs": [],
   "source": [
    "temp = []\n",
    "for word in 'Hello Jose'.split():\n",
    "    temp.append(temp_dict[word])"
   ]
  },
  {
   "cell_type": "code",
   "execution_count": 7,
   "id": "5cb2dd84",
   "metadata": {},
   "outputs": [
    {
     "data": {
      "text/plain": [
       "[array([ 0.07191449,  0.02479684, -0.20713037, -0.23622048], dtype=float32),\n",
       " array([-0.01340568,  0.00591075,  0.12758374,  0.22523183], dtype=float32)]"
      ]
     },
     "execution_count": 7,
     "metadata": {},
     "output_type": "execute_result"
    }
   ],
   "source": [
    "temp"
   ]
  },
  {
   "cell_type": "code",
   "execution_count": null,
   "id": "0b965503",
   "metadata": {},
   "outputs": [],
   "source": []
  }
 ],
 "metadata": {
  "kernelspec": {
   "display_name": "Python 3 (ipykernel)",
   "language": "python",
   "name": "python3"
  },
  "language_info": {
   "codemirror_mode": {
    "name": "ipython",
    "version": 3
   },
   "file_extension": ".py",
   "mimetype": "text/x-python",
   "name": "python",
   "nbconvert_exporter": "python",
   "pygments_lexer": "ipython3",
   "version": "3.9.15"
  }
 },
 "nbformat": 4,
 "nbformat_minor": 5
}
